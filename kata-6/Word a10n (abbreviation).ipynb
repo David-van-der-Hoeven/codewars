{
 "cells": [
  {
   "cell_type": "markdown",
   "id": "a9b7161c",
   "metadata": {},
   "source": [
    "The word i18n is a common abbreviation of internationalization in the developer community, used instead of typing the whole word and trying to spell it correctly. Similarly, a11y is an abbreviation of accessibility.\n",
    "\n",
    "Write a function that takes a string and turns any and all \"words\" (see below) within that string of length 4 or greater into an abbreviation, following these rules:\n",
    "\n",
    "A \"word\" is a sequence of alphabetical characters. By this definition, any other character like a space or hyphen (eg. \"elephant-ride\") will split up a series of letters into two words (eg. \"elephant\" and \"ride\").\n",
    "The abbreviated version of the word should have the first letter, then the number of removed characters, then the last letter (eg. \"elephant ride\" => \"e6t r2e\").\n",
    "Example\n",
    "abbreviate(\"elephant-rides are really fun!\")\n",
    "//          ^^^^^^^^*^^^^^*^^^*^^^^^^*^^^*\n",
    "// words (^):   \"elephant\" \"rides\" \"are\" \"really\" \"fun\"\n",
    "//                123456     123     1     1234     1\n",
    "// ignore short words:               X              X\n",
    "\n",
    "// abbreviate:    \"e6t\"     \"r3s\"  \"are\"  \"r4y\"   \"fun\"\n",
    "// all non-word characters (*) remain in place\n",
    "//                     \"-\"      \" \"    \" \"     \" \"     \"!\"\n",
    "=== \"e6t-r3s are r4y fun!\""
   ]
  },
  {
   "cell_type": "code",
   "execution_count": 1,
   "id": "8a006e3d",
   "metadata": {},
   "outputs": [],
   "source": [
    "import re\n",
    "\n",
    "def abbreviate(s):\n",
    "    s = re.split('([^a-zA-Z])', s)\n",
    "    full_word = []\n",
    "    for word in s:\n",
    "        if len(word) > 3:\n",
    "            word = word[0] + str(len(word) - 2) + word[-1]\n",
    "        full_word.append(word)\n",
    "    return ''.join(full_word)"
   ]
  },
  {
   "cell_type": "code",
   "execution_count": 2,
   "id": "a9d73b39",
   "metadata": {},
   "outputs": [
    {
     "data": {
      "text/plain": [
       "'in+ter4n5a-l6n'"
      ]
     },
     "execution_count": 2,
     "metadata": {},
     "output_type": "execute_result"
    }
   ],
   "source": [
    "abbreviate(\"in+ter4nationa-lization\")"
   ]
  }
 ],
 "metadata": {
  "kernelspec": {
   "display_name": "Python 3 (ipykernel)",
   "language": "python",
   "name": "python3"
  },
  "language_info": {
   "codemirror_mode": {
    "name": "ipython",
    "version": 3
   },
   "file_extension": ".py",
   "mimetype": "text/x-python",
   "name": "python",
   "nbconvert_exporter": "python",
   "pygments_lexer": "ipython3",
   "version": "3.10.2"
  }
 },
 "nbformat": 4,
 "nbformat_minor": 5
}
