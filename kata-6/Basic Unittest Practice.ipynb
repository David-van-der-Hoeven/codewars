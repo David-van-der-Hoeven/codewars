{
 "cells": [
  {
   "cell_type": "markdown",
   "id": "b7f3735e",
   "metadata": {},
   "source": [
    "In this kata, you are going to write unittests for the PhoneBook class, which manages each user's phone number:\n",
    "\n",
    "from collections import UserDict\n",
    "\n",
    "\n",
    "class PhoneBook(UserDict):\n",
    "\n",
    "    def create(self, name: str, phone_number: str) -> None:\n",
    "        self[name] = phone_number  # Statement 1\n",
    "\n",
    "    def retrieve(self, name: str) -> str:\n",
    "        if name not in self:\n",
    "            raise KeyError  # Statement 2\n",
    "\n",
    "        return self[name]  # Statement 3\n",
    "\n",
    "    def update(self, name: str, phone_number: str) -> None:\n",
    "        if name not in self:\n",
    "            raise KeyError\n",
    "\n",
    "        self[name] = phone_number  # Statement 4\n",
    "\n",
    "    def delete(self, name: str) -> None:\n",
    "        if name not in self:\n",
    "            raise KeyError\n",
    "\n",
    "        del self[name]  # Statement 5\n",
    "The test for the statement 1 is already written as an example.\n",
    "Your goal is to write tests for statement 2 to 5.\n",
    "\n",
    "Notes:\n",
    "\n",
    "There will be two stages of tests -\n",
    "In the first stage, your code will be used to test the PhoneBook class you just saw.\n",
    "In the second stage, it will be used to test an incorrectly implemented PhoneBook class to see if you had made the right assertions.\n",
    "The PhoneBook class is already imported for you.\n",
    "Do not rename existing test methods."
   ]
  },
  {
   "cell_type": "code",
   "execution_count": 1,
   "id": "56e959e5",
   "metadata": {},
   "outputs": [],
   "source": [
    "from collections import UserDict\n",
    "\n",
    "\n",
    "class PhoneBook(UserDict):\n",
    "\n",
    "    def create(self, name: str, phone_number: str) -> None:\n",
    "        self[name] = phone_number  # Statement 1\n",
    "\n",
    "    def retrieve(self, name: str) -> str:\n",
    "        if name not in self:\n",
    "            raise KeyError  # Statement 2\n",
    "\n",
    "        return self[name]  # Statement 3\n",
    "\n",
    "    def update(self, name: str, phone_number: str) -> None:\n",
    "        if name not in self:\n",
    "            raise KeyError\n",
    "\n",
    "        self[name] = phone_number  # Statement 4\n",
    "\n",
    "    def delete(self, name: str) -> None:\n",
    "        if name not in self:\n",
    "            raise KeyError\n",
    "\n",
    "        del self[name]  # Statement 5"
   ]
  },
  {
   "cell_type": "code",
   "execution_count": 2,
   "id": "12e43b9f",
   "metadata": {},
   "outputs": [],
   "source": [
    "from unittest import TestCase\n",
    "\n",
    "\n",
    "class TestPhoneBook(TestCase):\n",
    "\n",
    "    def setUp(self):\n",
    "        self.phone_book = PhoneBook()\n",
    "\n",
    "    def test_create_method(self):\n",
    "        self.phone_book.create('User', '1234-5678')\n",
    "\n",
    "        self.assertEqual(self.phone_book['User'], '1234-5678')\n",
    "\n",
    "    def test_retrieve_method_when_the_name_exists(self):\n",
    "        self.phone_book.create('User', '1234-5678')\n",
    "        \n",
    "        self.assertEqual(self.phone_book.retrieve('User'), '1234-5678')\n",
    "        \n",
    "        with self.assertRaises(KeyError):\n",
    "            self.phone_book.retrieve('Usert')\n",
    "\n",
    "    def test_retrieve_method_when_the_name_does_not_exist(self):\n",
    "        self.phone_book.create('User', '1234-5678')\n",
    "        \n",
    "        with self.assertRaises(KeyError):\n",
    "            self.phone_book.retrieve('Usert')\n",
    "        \n",
    "        self.assertEqual(self.phone_book.retrieve('User'), '1234-5678')\n",
    "        \n",
    "\n",
    "    def test_update_method_when_the_name_exists(self):\n",
    "        self.phone_book.create('User', '1234-5678')\n",
    "        self.phone_book.update('User', '8765-4321')\n",
    "        self.assertEqual(self.phone_book.retrieve('User'), '8765-4321')\n",
    "        with self.assertRaises(KeyError):\n",
    "            self.phone_book.retrieve('Usert')\n",
    "\n",
    "    def test_delete_method_when_the_name_exists(self):\n",
    "        self.phone_book.create('User', '1234-5678')\n",
    "        self.phone_book.delete('User')\n",
    "        with self.assertRaises(KeyError):\n",
    "            self.phone_book.retrieve('User')"
   ]
  },
  {
   "cell_type": "code",
   "execution_count": 3,
   "id": "14c4337f",
   "metadata": {},
   "outputs": [],
   "source": [
    "test_1 = TestPhoneBook()"
   ]
  },
  {
   "cell_type": "code",
   "execution_count": 4,
   "id": "9310e4ca",
   "metadata": {},
   "outputs": [],
   "source": [
    "test_1.setUp()\n",
    "test_1.test_create_method()"
   ]
  },
  {
   "cell_type": "code",
   "execution_count": 5,
   "id": "ce682d91",
   "metadata": {},
   "outputs": [],
   "source": [
    "test_1.test_delete_method_when_the_name_exists()"
   ]
  }
 ],
 "metadata": {
  "kernelspec": {
   "display_name": "Python 3 (ipykernel)",
   "language": "python",
   "name": "python3"
  },
  "language_info": {
   "codemirror_mode": {
    "name": "ipython",
    "version": 3
   },
   "file_extension": ".py",
   "mimetype": "text/x-python",
   "name": "python",
   "nbconvert_exporter": "python",
   "pygments_lexer": "ipython3",
   "version": "3.10.2"
  }
 },
 "nbformat": 4,
 "nbformat_minor": 5
}
