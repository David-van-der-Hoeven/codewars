{
 "cells": [
  {
   "cell_type": "code",
   "execution_count": 62,
   "id": "c28639b0",
   "metadata": {},
   "outputs": [],
   "source": [
    "def decipher_this(string):\n",
    "    word_list = string.split(' ')\n",
    "    output_list = []\n",
    "    for word in word_list:\n",
    "        digits = []\n",
    "        nondigits = []\n",
    "        for char in word:\n",
    "            if char.isdigit():\n",
    "                digits.append(char)\n",
    "            else:\n",
    "                nondigits.append(char)\n",
    "        digits = ''.join(digits)\n",
    "        converted = chr(int(digits))\n",
    "        \n",
    "        new_word = (converted + ''.join(nondigits))\n",
    "        \n",
    "        if len(new_word) > 2:\n",
    "            output_list.append(new_word[0] + new_word[-1] + new_word[2:-1] + new_word[1])\n",
    "        else:\n",
    "            output_list.append(new_word)\n",
    "    return ' '.join(output_list)"
   ]
  },
  {
   "cell_type": "code",
   "execution_count": 63,
   "id": "2fabc4d7",
   "metadata": {},
   "outputs": [
    {
     "data": {
      "text/plain": [
       "'A wise old owl lived in an oak'"
      ]
     },
     "execution_count": 63,
     "metadata": {},
     "output_type": "execute_result"
    }
   ],
   "source": [
    "decipher_this(\"65 119esi 111dl 111lw 108dvei 105n 97n 111ka\")"
   ]
  },
  {
   "cell_type": "code",
   "execution_count": null,
   "id": "8a673b25",
   "metadata": {},
   "outputs": [],
   "source": []
  }
 ],
 "metadata": {
  "kernelspec": {
   "display_name": "Python 3 (ipykernel)",
   "language": "python",
   "name": "python3"
  },
  "language_info": {
   "codemirror_mode": {
    "name": "ipython",
    "version": 3
   },
   "file_extension": ".py",
   "mimetype": "text/x-python",
   "name": "python",
   "nbconvert_exporter": "python",
   "pygments_lexer": "ipython3",
   "version": "3.10.2"
  }
 },
 "nbformat": 4,
 "nbformat_minor": 5
}
