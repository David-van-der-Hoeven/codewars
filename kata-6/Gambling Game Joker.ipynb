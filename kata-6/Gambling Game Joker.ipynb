{
 "cells": [
  {
   "cell_type": "markdown",
   "id": "fedd0c82",
   "metadata": {},
   "source": [
    "Popular gambling game Joker consists of drawing 6 balls from a drum on which are written numbers between 1 and 45. The winning joker number is formed from the drawn numbers so that in the same order in which the balls are drawn, we write down their last digits.\n",
    "\n",
    "For example, if the numbers 12, 35, 1, 2, 23 and 39 are drawn in order, then it is a joker No. 251239.\n",
    "\n",
    "1[2], 3[5], [1], [2], 2[3], 3[9] --> 251239\n",
    "\n",
    "Players buy winning tickets and look forward to drawing and calculating the joker number to calculate their possible gain. The winnings of the ticket are calculated by comparing the serial number written on the ticket with the calculated joker number in a way to count how many last digits of these two numbers match, as shown in the following table.\n",
    "\n",
    "Serial No. | Name of prize\n",
    "-----------+---------------\n",
    "251239     |   I type\n",
    "X51239     |   II type\n",
    "XX1239     |   III type\n",
    "XXX239     |   IV type\n",
    "XXXX39     |   V type\n",
    "XXXXX9     |   Losing card\n",
    "XXXXXX     |   Losing card\n",
    "In the left column are the serial numbers of the tickets, where X denotes arbitrary digits. In the right column of the table are the winnings names for each of the serial number forms. So if the serial number is exactly equal to the Joker number then we get the gain of type I, if the last 5 digits are equal we get the gain of type II, and so on, until the gain of type V, the kind we get when the last two digits are equal. All other serials are not winning.\n",
    "\n",
    "Write a program that will return the names of the winnings for a given Joker number and given tickets. The names of the winnings must be written exactly as written in the table above (the number of winnings is written in Roman numbers with capital letters ‘I’ and ‘V’, followed by a space and lowercase letters ‘type’).\n",
    "\n",
    "Input\n",
    "joker_nums --> an array of 6 numbers from which you have to make the winning Joker number\n",
    "\n",
    "ticket_serials --> an array of 3 ticket serial numbers\n",
    "\n",
    "Output\n",
    "You should return a list with the names of the winnings for the 3 given tickets\n",
    "\n",
    "joker_card([12, 35, 1, 2, 23, 39], ['151239', '251229', '251339']) --> [\"II type\", \"Losing card\", \"V type\"]\n",
    "Note\n",
    "some tickets may have leading zeros\n",
    "some joker numbers may have leading zeros\n",
    "leading zeros still count towards the total"
   ]
  },
  {
   "cell_type": "code",
   "execution_count": 46,
   "id": "f87ee1d8",
   "metadata": {},
   "outputs": [],
   "source": [
    "def joker_card(joker_nums, ticket_serials):\n",
    "    \n",
    "    winning_serial = [str(x)[-1] for x in joker_nums]\n",
    "    \n",
    "    tickets = []\n",
    "    \n",
    "    for ticket in ticket_serials:\n",
    "        ticket_result = 0\n",
    "        for n,l in enumerate((ticket)):\n",
    "            if ticket[-(n + 1)] == winning_serial[-(n + 1)]:\n",
    "                ticket_result += 1\n",
    "                continue\n",
    "            else:\n",
    "                break\n",
    "        \n",
    "        tickets.append(ticket_result)\n",
    "        \n",
    "    def get_results(result):\n",
    "        if result < 2:\n",
    "            return 'Losing card'\n",
    "        if result == 2:\n",
    "            return 'V type'\n",
    "        if result == 3:\n",
    "            return 'IV type'\n",
    "        if result == 4:\n",
    "            return 'III type'\n",
    "        if result == 5:\n",
    "            return 'II type'\n",
    "        if result == 6:\n",
    "            return 'I type'\n",
    "    \n",
    "    tickets_results = [get_results(x) for x in tickets]\n",
    "    \n",
    "    return tickets_results"
   ]
  },
  {
   "cell_type": "code",
   "execution_count": 47,
   "id": "685035a8",
   "metadata": {},
   "outputs": [
    {
     "data": {
      "text/plain": [
       "['II type', 'Losing card', 'V type']"
      ]
     },
     "execution_count": 47,
     "metadata": {},
     "output_type": "execute_result"
    }
   ],
   "source": [
    "joker_card([12, 35, 1, 2, 23, 39], ['151239', '251229', '251339'])#, [\"II type\", \"Losing card\", \"V type\"])"
   ]
  },
  {
   "cell_type": "code",
   "execution_count": 48,
   "id": "3d2ecf0b",
   "metadata": {},
   "outputs": [
    {
     "data": {
      "text/plain": [
       "['I type', 'III type', 'Losing card']"
      ]
     },
     "execution_count": 48,
     "metadata": {},
     "output_type": "execute_result"
    }
   ],
   "source": [
    "joker_card([5, 45, 35, 25, 15, 1], ['555551', '235551', '555552'])#, [\"I type\", \"III type\", \"Losing card\"])"
   ]
  },
  {
   "cell_type": "code",
   "execution_count": null,
   "id": "08ada1e8",
   "metadata": {},
   "outputs": [],
   "source": []
  }
 ],
 "metadata": {
  "kernelspec": {
   "display_name": "Python 3 (ipykernel)",
   "language": "python",
   "name": "python3"
  },
  "language_info": {
   "codemirror_mode": {
    "name": "ipython",
    "version": 3
   },
   "file_extension": ".py",
   "mimetype": "text/x-python",
   "name": "python",
   "nbconvert_exporter": "python",
   "pygments_lexer": "ipython3",
   "version": "3.10.2"
  }
 },
 "nbformat": 4,
 "nbformat_minor": 5
}
