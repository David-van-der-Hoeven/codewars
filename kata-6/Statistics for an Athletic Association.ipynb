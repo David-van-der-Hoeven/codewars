{
 "cells": [
  {
   "cell_type": "code",
   "execution_count": 5,
   "id": "aff19258",
   "metadata": {},
   "outputs": [],
   "source": [
    "def check_format(value):\n",
    "    if len(str(value)) < 2:\n",
    "        value = '0' + str(value)\n",
    "    return value\n",
    "\n",
    "def get_median(values):\n",
    "    if len(values) % 2:\n",
    "        median = values[int(len(values) / 2)]\n",
    "    else:\n",
    "        median = (values[int(len(values) /2)] + values[int((len(values) /2) - 1)]) / 2\n",
    "    return median\n",
    "\n",
    "def convert_to_form(seconds):\n",
    "    hours = int(seconds / 3600)\n",
    "    minutes = int((seconds - (3600 * hours)) / 60) \n",
    "    seconds = int((seconds - (3600 * hours) - (60 * minutes)))\n",
    "    hours, minutes, seconds = check_format(hours), check_format(minutes), check_format(seconds)\n",
    "    return str(hours) + \"|\" + str(minutes) + \"|\" + str(seconds)\n",
    "\n",
    "def convert_to_seconds(time):\n",
    "    split = time.split('|')\n",
    "    seconds = (3600 * int(split[0])) + (60 * int(split[1])) + int(split[2])\n",
    "    return seconds\n",
    "\n",
    "def stat(strg):\n",
    "    runners = strg.split(',')\n",
    "    stripped = []\n",
    "    for n in runners:\n",
    "        stripped.append(n.strip())\n",
    "    runners_seconds = []\n",
    "    for runner in stripped:\n",
    "        runners_seconds.append(convert_to_seconds(runner))\n",
    "    \n",
    "    runners_range = max(runners_seconds) - min(runners_seconds)\n",
    "    runners_mean = int(sum(runners_seconds) / len(runners_seconds))\n",
    "    runners_median = get_median(sorted(runners_seconds))\n",
    "    \n",
    "    output_string = f\"Range: {convert_to_form(runners_range)} Average: {convert_to_form(runners_mean)} Median: {convert_to_form(runners_median)}\"\n",
    "    return output_string"
   ]
  },
  {
   "cell_type": "code",
   "execution_count": 6,
   "id": "ebc8dbe1",
   "metadata": {
    "scrolled": true
   },
   "outputs": [
    {
     "data": {
      "text/plain": [
       "'Range: 01|01|18 Average: 01|38|05 Median: 01|32|34'"
      ]
     },
     "execution_count": 6,
     "metadata": {},
     "output_type": "execute_result"
    }
   ],
   "source": [
    "stat(\"01|15|59, 1|47|16, 01|17|20, 1|32|34, 2|17|17\")"
   ]
  },
  {
   "cell_type": "code",
   "execution_count": null,
   "id": "52739be6",
   "metadata": {},
   "outputs": [],
   "source": []
  }
 ],
 "metadata": {
  "kernelspec": {
   "display_name": "Python 3 (ipykernel)",
   "language": "python",
   "name": "python3"
  },
  "language_info": {
   "codemirror_mode": {
    "name": "ipython",
    "version": 3
   },
   "file_extension": ".py",
   "mimetype": "text/x-python",
   "name": "python",
   "nbconvert_exporter": "python",
   "pygments_lexer": "ipython3",
   "version": "3.10.2"
  }
 },
 "nbformat": 4,
 "nbformat_minor": 5
}
