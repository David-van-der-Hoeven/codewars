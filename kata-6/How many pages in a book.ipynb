{
 "cells": [
  {
   "cell_type": "markdown",
   "id": "85607492",
   "metadata": {},
   "source": [
    "Every book has n pages with page numbers 1 to n. The summary is made by adding up the number of digits of all page numbers.\n",
    "\n",
    "Task: Given the summary, find the number of pages n the book has.\n",
    "\n",
    "Example\n",
    "If the input is summary=25, then the output must be n=17: The numbers 1 to 17 have 25 digits in total: 1234567891011121314151617.\n",
    "\n",
    "Be aware that you'll get enormous books having up to 100.000 pages.\n",
    "\n",
    "All inputs will be valid.\n",
    "\n",
    "Here's the opposite kata, which is more complex (Paginating a huge book)"
   ]
  },
  {
   "cell_type": "code",
   "execution_count": 15,
   "id": "1fd30b39",
   "metadata": {},
   "outputs": [],
   "source": [
    "def amount_of_pages(summary):\n",
    "    summed_pages = 0\n",
    "    counter = 0\n",
    "    while summed_pages < summary:\n",
    "        counter += 1\n",
    "        summed_pages += len(str(counter))\n",
    "        \n",
    "    return counter"
   ]
  },
  {
   "cell_type": "code",
   "execution_count": 16,
   "id": "03b5305d",
   "metadata": {},
   "outputs": [
    {
     "data": {
      "text/plain": [
       "401"
      ]
     },
     "execution_count": 16,
     "metadata": {},
     "output_type": "execute_result"
    }
   ],
   "source": [
    "amount_of_pages(1095)#, 401"
   ]
  }
 ],
 "metadata": {
  "kernelspec": {
   "display_name": "Python 3 (ipykernel)",
   "language": "python",
   "name": "python3"
  },
  "language_info": {
   "codemirror_mode": {
    "name": "ipython",
    "version": 3
   },
   "file_extension": ".py",
   "mimetype": "text/x-python",
   "name": "python",
   "nbconvert_exporter": "python",
   "pygments_lexer": "ipython3",
   "version": "3.10.2"
  }
 },
 "nbformat": 4,
 "nbformat_minor": 5
}
