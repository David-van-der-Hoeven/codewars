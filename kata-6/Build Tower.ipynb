{
 "cells": [
  {
   "cell_type": "markdown",
   "id": "959eaba9",
   "metadata": {},
   "source": [
    "Build Tower\n",
    "Build a pyramid-shaped tower given a positive integer number of floors. A tower block is represented with \"*\" character.\n",
    "\n",
    "For example, a tower with 3 floors looks like this:\n",
    "\n",
    "[\n",
    "  \"  *  \",\n",
    "  \" *** \", \n",
    "  \"*****\"\n",
    "]\n",
    "And a tower with 6 floors looks like this:\n",
    "\n",
    "[\n",
    "  \"     *     \", \n",
    "  \"    ***    \", \n",
    "  \"   *****   \", \n",
    "  \"  *******  \", \n",
    "  \" ********* \", \n",
    "  \"***********\"\n",
    "]"
   ]
  },
  {
   "cell_type": "code",
   "execution_count": 13,
   "id": "ac5cf81e",
   "metadata": {},
   "outputs": [],
   "source": [
    "def tower_builder(n_floors):\n",
    "    tower = []\n",
    "    for n in range(1,n_floors+1):\n",
    "        asterisks = (n * 2) -1\n",
    "        width = n_floors - n\n",
    "        tower.append(width * ' ' + asterisks * '*' + width * ' ')\n",
    "    return tower"
   ]
  },
  {
   "cell_type": "code",
   "execution_count": 14,
   "id": "d6cff828",
   "metadata": {},
   "outputs": [
    {
     "data": {
      "text/plain": [
       "['     *     ',\n",
       " '    ***    ',\n",
       " '   *****   ',\n",
       " '  *******  ',\n",
       " ' ********* ',\n",
       " '***********']"
      ]
     },
     "execution_count": 14,
     "metadata": {},
     "output_type": "execute_result"
    }
   ],
   "source": [
    "tower_builder(6)"
   ]
  }
 ],
 "metadata": {
  "kernelspec": {
   "display_name": "Python 3 (ipykernel)",
   "language": "python",
   "name": "python3"
  },
  "language_info": {
   "codemirror_mode": {
    "name": "ipython",
    "version": 3
   },
   "file_extension": ".py",
   "mimetype": "text/x-python",
   "name": "python",
   "nbconvert_exporter": "python",
   "pygments_lexer": "ipython3",
   "version": "3.10.2"
  }
 },
 "nbformat": 4,
 "nbformat_minor": 5
}
