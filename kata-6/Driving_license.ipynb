{
 "cells": [
  {
   "cell_type": "code",
   "execution_count": 56,
   "id": "ff96934b",
   "metadata": {},
   "outputs": [],
   "source": [
    "import datetime\n",
    "\n",
    "def get_initials(first_name, middle_name):\n",
    "    if middle_name:\n",
    "        initials = first_name[0] + middle_name[0]\n",
    "        return initials\n",
    "    initials = first_name[0] + '9'\n",
    "    return initials\n",
    "    \n",
    "def get_surname(surname_string):\n",
    "    if len(surname_string) < 6:\n",
    "        surname = surname_string[0:len(surname_string)].upper()\n",
    "    else:\n",
    "        surname = surname_string[0:6].upper()\n",
    "    while len(surname) < 5:\n",
    "        surname += '9'\n",
    "    return surname\n",
    "\n",
    "def get_decade(dob, gender):\n",
    "    split_date = dob.split('-')\n",
    "    #Getting the month\n",
    "    if len(split_date[1]) > 3:\n",
    "        month = datetime.datetime.strptime(split_date[1], \"%B\").month\n",
    "    else:\n",
    "        month = datetime.datetime.strptime(split_date[1], \"%b\").month\n",
    "    if gender == 'F':\n",
    "        month += 50\n",
    "    seven_eight = str(month)\n",
    "    if len (seven_eight ) < 2:\n",
    "        seven_eight = '0' + seven_eight\n",
    "    #decade for index number 6\n",
    "    decade = split_date[2][2]\n",
    "    # day for index 9-10\n",
    "    day = split_date[0]\n",
    "    # year digit for index 11\n",
    "    year_digit = split_date[2][3]\n",
    "    output_string = decade + seven_eight + day + year_digit\n",
    "    return output_string\n",
    "\n",
    "def driver(data):\n",
    "  # Start driving here!\n",
    "    serial = \"\"\n",
    "    surname = get_surname(data[2])\n",
    "    decade = get_decade(data[3], data[4])\n",
    "    initials = get_initials(data[0], data[1])\n",
    "    serial += surname + decade + initials + '9AA'\n",
    "    return serial"
   ]
  },
  {
   "cell_type": "code",
   "execution_count": 57,
   "id": "32cd2c5f",
   "metadata": {},
   "outputs": [],
   "source": [
    "data = [\"Andrew\", \"Robert\", \"Lee\", \"02-September-1981\", \"M\"]\n"
   ]
  },
  {
   "cell_type": "code",
   "execution_count": 58,
   "id": "bbc1f9df",
   "metadata": {},
   "outputs": [
    {
     "data": {
      "text/plain": [
       "'LEE99809021AR9AA'"
      ]
     },
     "execution_count": 58,
     "metadata": {},
     "output_type": "execute_result"
    }
   ],
   "source": [
    "driver(data)"
   ]
  },
  {
   "cell_type": "code",
   "execution_count": null,
   "id": "8b42d2ac",
   "metadata": {},
   "outputs": [],
   "source": []
  }
 ],
 "metadata": {
  "kernelspec": {
   "display_name": "Python 3 (ipykernel)",
   "language": "python",
   "name": "python3"
  },
  "language_info": {
   "codemirror_mode": {
    "name": "ipython",
    "version": 3
   },
   "file_extension": ".py",
   "mimetype": "text/x-python",
   "name": "python",
   "nbconvert_exporter": "python",
   "pygments_lexer": "ipython3",
   "version": "3.10.2"
  }
 },
 "nbformat": 4,
 "nbformat_minor": 5
}
