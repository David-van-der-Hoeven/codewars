{
 "cells": [
  {
   "cell_type": "markdown",
   "id": "593fcb5b",
   "metadata": {},
   "source": [
    "Take the following IPv4 address: 128.32.10.1 This address has 4 octets where each octet is a single byte (or 8 bits).\n",
    "\n",
    "1st octet 128 has the binary representation: 10000000\n",
    "2nd octet 32 has the binary representation: 00100000\n",
    "3rd octet 10 has the binary representation: 00001010\n",
    "4th octet 1 has the binary representation: 00000001\n",
    "So 128.32.10.1 == 10000000.00100000.00001010.00000001\n",
    "\n",
    "Because the above IP address has 32 bits, we can represent it as the 32 bit number: 2149583361.\n",
    "\n",
    "Write a function ip_to_int32(ip) ( JS: ipToInt32(ip) ) that takes an IPv4 address and returns a 32 bit number.\n",
    "\n",
    "  ip_to_int32(\"128.32.10.1\") => 2149583361"
   ]
  },
  {
   "cell_type": "code",
   "execution_count": 1,
   "id": "2a794316",
   "metadata": {},
   "outputs": [],
   "source": [
    "def ip_to_int32(ip):\n",
    "    return int(''.join([\"{:08b}\".format(int(x)) for x in ip.split('.')]),2)"
   ]
  },
  {
   "cell_type": "code",
   "execution_count": 2,
   "id": "ceb87243",
   "metadata": {},
   "outputs": [
    {
     "data": {
      "text/plain": [
       "2154959208"
      ]
     },
     "execution_count": 2,
     "metadata": {},
     "output_type": "execute_result"
    }
   ],
   "source": [
    "ip_to_int32(\"128.114.17.104\")"
   ]
  },
  {
   "cell_type": "code",
   "execution_count": null,
   "id": "d2775c71",
   "metadata": {},
   "outputs": [],
   "source": []
  }
 ],
 "metadata": {
  "kernelspec": {
   "display_name": "Python 3 (ipykernel)",
   "language": "python",
   "name": "python3"
  },
  "language_info": {
   "codemirror_mode": {
    "name": "ipython",
    "version": 3
   },
   "file_extension": ".py",
   "mimetype": "text/x-python",
   "name": "python",
   "nbconvert_exporter": "python",
   "pygments_lexer": "ipython3",
   "version": "3.10.2"
  }
 },
 "nbformat": 4,
 "nbformat_minor": 5
}
