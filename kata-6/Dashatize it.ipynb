{
 "cells": [
  {
   "cell_type": "code",
   "execution_count": 1,
   "id": "949e73ec",
   "metadata": {},
   "outputs": [],
   "source": [
    "def dashatize(n):\n",
    "    if not isinstance(n, int):\n",
    "        return 'None'\n",
    "    n = abs(n)\n",
    "    if len(str(n)) == 1:\n",
    "        return str(n)\n",
    "    digit_list = []\n",
    "    for index, digit in enumerate(str(n)):\n",
    "        if (index == 0) & (int(digit) % 2):\n",
    "            digit_list.append(digit + '-')\n",
    "        elif (index == 0):\n",
    "            digit_list.append(digit)\n",
    "        elif (index == len(str(n)) -1) & (int(digit) % 2):\n",
    "            digit_list.append('-' + digit)\n",
    "        elif int(digit) % 2:\n",
    "            digit_list.append('-' + digit + '-')\n",
    "        else:\n",
    "            digit_list.append(digit)\n",
    "    output_string = (''.join(digit_list)).replace('--','-')\n",
    "    return output_string"
   ]
  },
  {
   "cell_type": "code",
   "execution_count": 3,
   "id": "2433c243",
   "metadata": {},
   "outputs": [
    {
     "data": {
      "text/plain": [
       "'2244-5-3-664-3-428'"
      ]
     },
     "execution_count": 3,
     "metadata": {},
     "output_type": "execute_result"
    }
   ],
   "source": [
    "dashatize(2244536643428)"
   ]
  },
  {
   "cell_type": "code",
   "execution_count": null,
   "id": "b6f41155",
   "metadata": {},
   "outputs": [],
   "source": []
  }
 ],
 "metadata": {
  "kernelspec": {
   "display_name": "Python 3 (ipykernel)",
   "language": "python",
   "name": "python3"
  },
  "language_info": {
   "codemirror_mode": {
    "name": "ipython",
    "version": 3
   },
   "file_extension": ".py",
   "mimetype": "text/x-python",
   "name": "python",
   "nbconvert_exporter": "python",
   "pygments_lexer": "ipython3",
   "version": "3.10.2"
  }
 },
 "nbformat": 4,
 "nbformat_minor": 5
}
