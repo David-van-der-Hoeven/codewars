{
 "cells": [
  {
   "cell_type": "code",
   "execution_count": 51,
   "id": "77eddb13",
   "metadata": {},
   "outputs": [],
   "source": [
    "def is_valid_walk(walk):\n",
    "    if len(walk) != 10:\n",
    "        return False\n",
    "    position_x, position_y = (0, 0)\n",
    "    position_list = [position_x, position_y]\n",
    "    for direction in walk:\n",
    "        position_x, position_y = determine_coordinates(position_x, position_y, direction)\n",
    "    if (position_x, position_y) == (0, 0):\n",
    "        return True\n",
    "    return False\n",
    "    \n",
    "def determine_coordinates(position_x, position_y, direction):\n",
    "    if direction == 'w':\n",
    "        position_x += 1\n",
    "    if direction == 'e':\n",
    "        position_x -= 1\n",
    "    if direction == 's':\n",
    "        position_y -= 1\n",
    "    if direction == 'n':\n",
    "        position_y += 1\n",
    "    return position_x, position_y"
   ]
  },
  {
   "cell_type": "code",
   "execution_count": 52,
   "id": "e6731f33",
   "metadata": {},
   "outputs": [
    {
     "data": {
      "text/plain": [
       "False"
      ]
     },
     "execution_count": 52,
     "metadata": {},
     "output_type": "execute_result"
    }
   ],
   "source": [
    "is_valid_walk(['w','e','w','e','w','e','w','e','w','e','w','e'])"
   ]
  },
  {
   "cell_type": "code",
   "execution_count": null,
   "id": "7e843235",
   "metadata": {},
   "outputs": [],
   "source": []
  }
 ],
 "metadata": {
  "kernelspec": {
   "display_name": "Python 3 (ipykernel)",
   "language": "python",
   "name": "python3"
  },
  "language_info": {
   "codemirror_mode": {
    "name": "ipython",
    "version": 3
   },
   "file_extension": ".py",
   "mimetype": "text/x-python",
   "name": "python",
   "nbconvert_exporter": "python",
   "pygments_lexer": "ipython3",
   "version": "3.10.2"
  }
 },
 "nbformat": 4,
 "nbformat_minor": 5
}
