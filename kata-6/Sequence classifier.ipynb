{
 "cells": [
  {
   "cell_type": "markdown",
   "id": "7f15f52b",
   "metadata": {},
   "source": [
    "A series or sequence of numbers is usually the product of a function and can either be infinite or finite.\n",
    "\n",
    "In this kata we will only consider finite series and you are required to return a code according to the type of sequence:\n",
    "\n",
    "Code\tType\tExample\n",
    "0\tunordered\t[3,5,8,1,14,3]\n",
    "1\tstrictly increasing\t[3,5,8,9,14,23]\n",
    "2\tnot decreasing\t[3,5,8,8,14,14]\n",
    "3\tstrictly decreasing\t[14,9,8,5,3,1]\n",
    "4\tnot increasing\t[14,14,8,8,5,3]\n",
    "5\tconstant\t[8,8,8,8,8,8]\n",
    "You can expect all the inputs to be non-empty and completely numerical arrays/lists - no need to validate the data; do not go for sloppy code, as rather large inputs might be tested.\n",
    "\n",
    "Try to achieve a good solution that runs in linear time; also, do it functionally, meaning you need to build a pure function or, in even poorer words, do NOT modify the initial input!"
   ]
  },
  {
   "cell_type": "code",
   "execution_count": 1,
   "id": "3a5dcba2",
   "metadata": {},
   "outputs": [],
   "source": [
    "def sequence_classifier(arr):\n",
    "    new_list = []\n",
    "    \n",
    "    def return_value(arr1, arr2):\n",
    "        if arr1 - arr2 < 0:\n",
    "            return -1\n",
    "        if arr1 - arr2 > 0:\n",
    "            return 1\n",
    "        else:\n",
    "            return 0\n",
    "    \n",
    "    \n",
    "    for n in range(len(arr)):\n",
    "        if n < len(arr)-1:\n",
    "            new_list.append(return_value(arr[n+1], arr[n]))\n",
    "    \n",
    "    set_list = set(new_list)\n",
    "    \n",
    "    \n",
    "    if len(set_list) == 1:\n",
    "        if sum(set_list) == 0:\n",
    "            return 5\n",
    "        if sum(set_list) == 1:\n",
    "            return 1\n",
    "        if sum(set_list) == -1:\n",
    "            return 3\n",
    "            \n",
    "    if ((1 in set_list) & (-1 in set_list)):\n",
    "        return 0\n",
    "        \n",
    "    elif (1 in set_list) & (0 in set_list):\n",
    "        return 2\n",
    "    elif (-1 in set_list) & (0 in set_list):\n",
    "        return 4"
   ]
  },
  {
   "cell_type": "code",
   "execution_count": 2,
   "id": "77b66aae",
   "metadata": {},
   "outputs": [
    {
     "data": {
      "text/plain": [
       "4"
      ]
     },
     "execution_count": 2,
     "metadata": {},
     "output_type": "execute_result"
    }
   ],
   "source": [
    "sequence_classifier([14,14,8,8,5,3])#,4)"
   ]
  },
  {
   "cell_type": "code",
   "execution_count": 3,
   "id": "03318a05",
   "metadata": {
    "scrolled": true
   },
   "outputs": [
    {
     "data": {
      "text/plain": [
       "0"
      ]
     },
     "execution_count": 3,
     "metadata": {},
     "output_type": "execute_result"
    }
   ],
   "source": [
    "sequence_classifier([5,5,6,5,5,5])#,4)"
   ]
  },
  {
   "cell_type": "markdown",
   "id": "80b01104",
   "metadata": {},
   "source": [
    "This works but is quite slow, it could use some cleaning up"
   ]
  }
 ],
 "metadata": {
  "kernelspec": {
   "display_name": "Python 3 (ipykernel)",
   "language": "python",
   "name": "python3"
  },
  "language_info": {
   "codemirror_mode": {
    "name": "ipython",
    "version": 3
   },
   "file_extension": ".py",
   "mimetype": "text/x-python",
   "name": "python",
   "nbconvert_exporter": "python",
   "pygments_lexer": "ipython3",
   "version": "3.10.2"
  }
 },
 "nbformat": 4,
 "nbformat_minor": 5
}
