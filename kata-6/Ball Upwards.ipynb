{
 "cells": [
  {
   "cell_type": "markdown",
   "id": "920285b2",
   "metadata": {},
   "source": [
    "You throw a ball vertically upwards with an initial speed v (in km per hour). The height h of the ball at each time t is given by h = v*t - 0.5*g*t*t where g is Earth's gravity (g ~ 9.81 m/s**2). A device is recording at every tenth of second the height of the ball. For example with v = 15 km/h the device gets something of the following form: (0, 0.0), (1, 0.367...), (2, 0.637...), (3, 0.808...), (4, 0.881..) ... where the first number is the time in tenth of second and the second number the height in meter.\n",
    "\n",
    "Task\n",
    "Write a function max_ball with parameter v (in km per hour) that returns the time in tenth of second of the maximum height recorded by the device.\n",
    "\n",
    "Examples:\n",
    "max_ball(15) should return 4\n",
    "\n",
    "max_ball(25) should return 7\n",
    "\n",
    "Notes\n",
    "Remember to convert the velocity from km/h to m/s or from m/s in km/h when necessary.\n",
    "The maximum height recorded by the device is not necessarily the maximum height reached by the ball."
   ]
  },
  {
   "cell_type": "code",
   "execution_count": 29,
   "id": "fd2203ca",
   "metadata": {},
   "outputs": [],
   "source": [
    "def max_ball(v0):\n",
    "    v0 = v0 / 3.6\n",
    "    g = 9.81\n",
    "    height = 0\n",
    "    t = 0\n",
    "    heights_list = []\n",
    "    while height >= 0:\n",
    "        height = v0 * t - (0.5 * g * t * t)\n",
    "        t += 0.1\n",
    "        heights_list.append(height)\n",
    "    return heights_list.index(max(heights_list))"
   ]
  },
  {
   "cell_type": "code",
   "execution_count": 30,
   "id": "6a6c7ae6",
   "metadata": {},
   "outputs": [
    {
     "data": {
      "text/plain": [
       "10"
      ]
     },
     "execution_count": 30,
     "metadata": {},
     "output_type": "execute_result"
    }
   ],
   "source": [
    "max_ball(37) # 10"
   ]
  },
  {
   "cell_type": "code",
   "execution_count": null,
   "id": "8cb78171",
   "metadata": {},
   "outputs": [],
   "source": []
  }
 ],
 "metadata": {
  "kernelspec": {
   "display_name": "Python 3 (ipykernel)",
   "language": "python",
   "name": "python3"
  },
  "language_info": {
   "codemirror_mode": {
    "name": "ipython",
    "version": 3
   },
   "file_extension": ".py",
   "mimetype": "text/x-python",
   "name": "python",
   "nbconvert_exporter": "python",
   "pygments_lexer": "ipython3",
   "version": "3.10.2"
  }
 },
 "nbformat": 4,
 "nbformat_minor": 5
}
