{
 "cells": [
  {
   "cell_type": "markdown",
   "id": "9e553ef7",
   "metadata": {},
   "source": [
    "Given a rational number n\n",
    "\n",
    "n >= 0, with denominator strictly positive\n",
    "\n",
    "as a string (example: \"2/3\" in Ruby, Python, Clojure, JS, CS, Go)\n",
    "or as two strings (example: \"2\" \"3\" in Haskell, Java, CSharp, C++, Swift, Dart)\n",
    "or as a rational or decimal number (example: 3/4, 0.67 in R)\n",
    "or two integers (Fortran)\n",
    "decompose this number as a sum of rationals with numerators equal to one and without repetitions (2/3 = 1/2 + 1/6 is correct but not 2/3 = 1/3 + 1/3, 1/3 is repeated).\n",
    "\n",
    "The algorithm must be \"greedy\", so at each stage the new rational obtained in the decomposition must have a denominator as small as possible. In this manner the sum of a few fractions in the decomposition gives a rather good approximation of the rational to decompose.\n",
    "\n",
    "2/3 = 1/3 + 1/3 doesn't fit because of the repetition but also because the first 1/3 has a denominator bigger than the one in 1/2 in the decomposition 2/3 = 1/2 + 1/6.\n",
    "\n",
    "Example:\n",
    "(You can see other examples in \"Sample Tests:\")\n",
    "\n",
    "decompose(\"21/23\") or \"21\" \"23\" or 21/23 should return \n",
    "\n",
    "[\"1/2\", \"1/3\", \"1/13\", \"1/359\", \"1/644046\"] in Ruby, Python, Clojure, JS, CS, Haskell, Go\n",
    "\n",
    "\"[1/2, 1/3, 1/13, 1/359, 1/644046]\" in Java, CSharp, C++, Dart\n",
    "\n",
    "\"1/2,1/3,1/13,1/359,1/644046\" in C, Swift, R\n",
    "Notes\n",
    "The decomposition of 21/23 as\n",
    "\n",
    "21/23 = 1/2 + 1/3 + 1/13 + 1/598 + 1/897\n",
    "is exact but don't fulfill our requirement because 598 is bigger than 359. Same for\n",
    "\n",
    "21/23 = 1/2 + 1/3 + 1/23 + 1/46 + 1/69 (23 is bigger than 13)\n",
    "or \n",
    "21/23 = 1/2 + 1/3 + 1/15 + 1/110 + 1/253 (15 is bigger than 13).\n",
    "The rational given to decompose could be greater than one or equal to one, in which case the first \"fraction\" will be an integer (with an implicit denominator of 1).\n",
    "\n",
    "If the numerator parses to zero the function \"decompose\" returns [] (or \"\",, or \"[]\").\n",
    "\n",
    "The number could also be a decimal which can be expressed as a rational.\n",
    "\n",
    "Example:\n",
    "0.6 in Ruby, Python, Clojure,JS, CS, Julia, Go\n",
    "\n",
    "\"66\" \"100\" in Haskell, Java, CSharp, C++, C, Swift, Scala, Kotlin, Dart, ...\n",
    "\n",
    "0.67 in R.\n",
    "\n",
    "Ref: http://en.wikipedia.org/wiki/Egyptian_fraction"
   ]
  },
  {
   "cell_type": "code",
   "execution_count": 9,
   "id": "72b29350",
   "metadata": {},
   "outputs": [],
   "source": [
    "def decompose(n):\n",
    "    from math import ceil\n",
    "    from fractions import Fraction\n",
    "    n = Fraction(n)\n",
    "    output_string = []\n",
    "    while n > 1:\n",
    "        output_string.append(str(int(n)))\n",
    "        n -= int(n)\n",
    "    while (n > 0) & (n < 1):\n",
    "        output_string.append('1/' + str(ceil(1/n)))\n",
    "        n = Fraction(n) - Fraction(1, ceil(1/n))\n",
    "    return output_string"
   ]
  },
  {
   "cell_type": "code",
   "execution_count": 10,
   "id": "2dc6e9cf",
   "metadata": {},
   "outputs": [
    {
     "data": {
      "text/plain": [
       "[]"
      ]
     },
     "execution_count": 10,
     "metadata": {},
     "output_type": "execute_result"
    }
   ],
   "source": [
    "decompose('0')"
   ]
  },
  {
   "cell_type": "code",
   "execution_count": 11,
   "id": "51f997d1",
   "metadata": {},
   "outputs": [
    {
     "data": {
      "text/plain": [
       "['1/2', '1/4']"
      ]
     },
     "execution_count": 11,
     "metadata": {},
     "output_type": "execute_result"
    }
   ],
   "source": [
    "decompose('3/4')"
   ]
  },
  {
   "cell_type": "code",
   "execution_count": 12,
   "id": "e63e4a64",
   "metadata": {},
   "outputs": [
    {
     "data": {
      "text/plain": [
       "['1/2', '1/4', '1/20']"
      ]
     },
     "execution_count": 12,
     "metadata": {},
     "output_type": "execute_result"
    }
   ],
   "source": [
    "decompose('4/5')"
   ]
  },
  {
   "cell_type": "code",
   "execution_count": 13,
   "id": "c1bd1810",
   "metadata": {},
   "outputs": [
    {
     "data": {
      "text/plain": [
       "['1/2', '1/7', '1/59', '1/5163', '1/53307975']"
      ]
     },
     "execution_count": 13,
     "metadata": {},
     "output_type": "execute_result"
    }
   ],
   "source": [
    "decompose('0.66')"
   ]
  },
  {
   "cell_type": "code",
   "execution_count": 14,
   "id": "b5725668",
   "metadata": {},
   "outputs": [
    {
     "data": {
      "text/plain": [
       "['25']"
      ]
     },
     "execution_count": 14,
     "metadata": {},
     "output_type": "execute_result"
    }
   ],
   "source": [
    "decompose('75/3')"
   ]
  },
  {
   "cell_type": "code",
   "execution_count": null,
   "id": "dfc814d7",
   "metadata": {},
   "outputs": [],
   "source": []
  }
 ],
 "metadata": {
  "kernelspec": {
   "display_name": "Python 3 (ipykernel)",
   "language": "python",
   "name": "python3"
  },
  "language_info": {
   "codemirror_mode": {
    "name": "ipython",
    "version": 3
   },
   "file_extension": ".py",
   "mimetype": "text/x-python",
   "name": "python",
   "nbconvert_exporter": "python",
   "pygments_lexer": "ipython3",
   "version": "3.10.2"
  }
 },
 "nbformat": 4,
 "nbformat_minor": 5
}
