{
 "cells": [
  {
   "cell_type": "markdown",
   "id": "113d7c56",
   "metadata": {},
   "source": [
    "A natural number is called k-prime if it has exactly k prime factors, counted with multiplicity. For example:\n",
    "\n",
    "k = 2  -->  4, 6, 9, 10, 14, 15, 21, 22, ...\n",
    "k = 3  -->  8, 12, 18, 20, 27, 28, 30, ...\n",
    "k = 5  -->  32, 48, 72, 80, 108, 112, ...\n",
    "A natural number is thus prime if and only if it is 1-prime.\n",
    "\n",
    "Task:\n",
    "Complete the function count_Kprimes (or countKprimes, count-K-primes, kPrimes) which is given parameters k, start, end (or nd) and returns an array (or a list or a string depending on the language - see \"Solution\" and \"Sample Tests\") of the k-primes between start (inclusive) and end (inclusive).\n",
    "\n",
    "Example:\n",
    "countKprimes(5, 500, 600) --> [500, 520, 552, 567, 588, 592, 594]\n",
    "Notes:\n",
    "\n",
    "The first function would have been better named: findKprimes or kPrimes :-)\n",
    "In C some helper functions are given (see declarations in 'Solution').\n",
    "For Go: nil slice is expected when there are no k-primes between start and end."
   ]
  },
  {
   "cell_type": "code",
   "execution_count": 107,
   "id": "258a9a7f",
   "metadata": {},
   "outputs": [],
   "source": [
    "def count_Kprimes(k, start, nd):\n",
    "    prime_dict = {}\n",
    "    for number in range(start, nd):\n",
    "        prime_dict[number] = len(prime_factors(number))\n",
    "    selection = []\n",
    "    for key, values in prime_dict.items():\n",
    "        if values == k:\n",
    "            selection.append(key)\n",
    "    return selection\n",
    "\n",
    "def prime_factors(n):\n",
    "    factor_list = []\n",
    "    while is_prime(n):\n",
    "        n, factor = determine_factor(n, factor_list)\n",
    "        factor_list.append(factor)\n",
    "    factor_list.append(int(n))\n",
    "    return factor_list\n",
    "\n",
    "def determine_factor(number, factor_list):\n",
    "    #if not number % 2:\n",
    "    #    print(number)\n",
    "    #    number = number / 2\n",
    "    #    return number, 2\n",
    "    for factor in range(3, int(number/2 +1), 2):\n",
    "        if not number % factor:\n",
    "            number = number / factor\n",
    "            return number, factor\n",
    "\n",
    "def is_prime(number):\n",
    "    if number % 2 == 0:\n",
    "        print('its prime')\n",
    "        return True\n",
    "    for factor in range(3, int(number/2 +1), 2):\n",
    "        if not number % factor:\n",
    "            return True\n",
    "    return False\n",
    "\n",
    "def puzzle(s):\n",
    "    dict_1 = count_Kprimes(1, 2, s)\n",
    "    dict_3 = count_Kprimes(3, 2, s)\n",
    "    dict_7 = count_Kprimes(7, 2, s)\n",
    "    solutions = 0\n",
    "    for first in dict_1:\n",
    "        for second in dict_3:\n",
    "            for third in dict_7:\n",
    "                if first + second + third == s:\n",
    "                    solutions += 1\n",
    "    return solutions"
   ]
  },
  {
   "cell_type": "markdown",
   "id": "adeba5b5",
   "metadata": {},
   "source": [
    "prime_dict = {}\n",
    "\n",
    "def count_Kprimes(k, start, nd):\n",
    "    \n",
    "    for number in range(start, nd+100):\n",
    "        prime_dict[number] = len(prime_factors(number))\n",
    "    selection = []\n",
    "    for key, values in prime_dict.items():\n",
    "        if values == k:\n",
    "            selection.append(key)\n",
    "    return selection\n",
    "\n",
    "def prime_factors(n):\n",
    "    factor_list = []\n",
    "    while is_prime(n):\n",
    "        n, factor = determine_factor(n, factor_list)\n",
    "        factor_list.append(factor)\n",
    "    factor_list.append(int(n))\n",
    "    return factor_list\n",
    "\n",
    "def determine_factor(number, factor_list):\n",
    "    for factor in range(2, int(number/2 +1)):\n",
    "        if not number % factor:\n",
    "            number = number / factor\n",
    "            return number, factor\n",
    "\n",
    "def is_prime(number):\n",
    "    for factor in range(2, int(number/2 +1)):\n",
    "        if not number % factor:\n",
    "            return True\n",
    "    return False\n",
    "\n",
    "def puzzle(s):\n",
    "    dict_1 = [key for key, items in prime_dict.items() if items == 1]\n",
    "    dict_3 = [key for key, items in prime_dict.items() if items == 3]\n",
    "    dict_7 = [key for key, items in prime_dict.items() if items == 7]\n",
    "    solutions = 0\n",
    "    for first in dict_1:\n",
    "        for second in dict_3:\n",
    "            for third in dict_7:\n",
    "                if first + second + third == s:\n",
    "                    solutions += 1\n",
    "    return solutions"
   ]
  },
  {
   "cell_type": "code",
   "execution_count": 108,
   "id": "a6328ff8",
   "metadata": {},
   "outputs": [
    {
     "name": "stdout",
     "output_type": "stream",
     "text": [
      "its prime\n"
     ]
    },
    {
     "ename": "TypeError",
     "evalue": "cannot unpack non-iterable NoneType object",
     "output_type": "error",
     "traceback": [
      "\u001b[1;31m---------------------------------------------------------------------------\u001b[0m",
      "\u001b[1;31mTypeError\u001b[0m                                 Traceback (most recent call last)",
      "Input \u001b[1;32mIn [108]\u001b[0m, in \u001b[0;36m<cell line: 1>\u001b[1;34m()\u001b[0m\n\u001b[1;32m----> 1\u001b[0m \u001b[43mcount_Kprimes\u001b[49m\u001b[43m(\u001b[49m\u001b[38;5;241;43m2\u001b[39;49m\u001b[43m,\u001b[49m\u001b[43m \u001b[49m\u001b[38;5;241;43m0\u001b[39;49m\u001b[43m,\u001b[49m\u001b[43m \u001b[49m\u001b[38;5;241;43m100\u001b[39;49m\u001b[43m)\u001b[49m\n",
      "Input \u001b[1;32mIn [107]\u001b[0m, in \u001b[0;36mcount_Kprimes\u001b[1;34m(k, start, nd)\u001b[0m\n\u001b[0;32m      2\u001b[0m prime_dict \u001b[38;5;241m=\u001b[39m {}\n\u001b[0;32m      3\u001b[0m \u001b[38;5;28;01mfor\u001b[39;00m number \u001b[38;5;129;01min\u001b[39;00m \u001b[38;5;28mrange\u001b[39m(start, nd):\n\u001b[1;32m----> 4\u001b[0m     prime_dict[number] \u001b[38;5;241m=\u001b[39m \u001b[38;5;28mlen\u001b[39m(\u001b[43mprime_factors\u001b[49m\u001b[43m(\u001b[49m\u001b[43mnumber\u001b[49m\u001b[43m)\u001b[49m)\n\u001b[0;32m      5\u001b[0m selection \u001b[38;5;241m=\u001b[39m []\n\u001b[0;32m      6\u001b[0m \u001b[38;5;28;01mfor\u001b[39;00m key, values \u001b[38;5;129;01min\u001b[39;00m prime_dict\u001b[38;5;241m.\u001b[39mitems():\n",
      "Input \u001b[1;32mIn [107]\u001b[0m, in \u001b[0;36mprime_factors\u001b[1;34m(n)\u001b[0m\n\u001b[0;32m     12\u001b[0m factor_list \u001b[38;5;241m=\u001b[39m []\n\u001b[0;32m     13\u001b[0m \u001b[38;5;28;01mwhile\u001b[39;00m is_prime(n):\n\u001b[1;32m---> 14\u001b[0m     n, factor \u001b[38;5;241m=\u001b[39m determine_factor(n, factor_list)\n\u001b[0;32m     15\u001b[0m     factor_list\u001b[38;5;241m.\u001b[39mappend(factor)\n\u001b[0;32m     16\u001b[0m factor_list\u001b[38;5;241m.\u001b[39mappend(\u001b[38;5;28mint\u001b[39m(n))\n",
      "\u001b[1;31mTypeError\u001b[0m: cannot unpack non-iterable NoneType object"
     ]
    }
   ],
   "source": [
    "count_Kprimes(2, 0, 100)"
   ]
  },
  {
   "cell_type": "code",
   "execution_count": 71,
   "id": "885fc6bc",
   "metadata": {},
   "outputs": [
    {
     "data": {
      "text/plain": [
       "5"
      ]
     },
     "execution_count": 71,
     "metadata": {},
     "output_type": "execute_result"
    }
   ],
   "source": [
    "hello if hello > goodbye else nope"
   ]
  },
  {
   "cell_type": "code",
   "execution_count": 70,
   "id": "601cc996",
   "metadata": {},
   "outputs": [],
   "source": [
    "hello = 10\n",
    "goodbye = 15\n",
    "nope = 5"
   ]
  },
  {
   "cell_type": "code",
   "execution_count": null,
   "id": "31072c87",
   "metadata": {},
   "outputs": [],
   "source": []
  }
 ],
 "metadata": {
  "kernelspec": {
   "display_name": "Python 3 (ipykernel)",
   "language": "python",
   "name": "python3"
  },
  "language_info": {
   "codemirror_mode": {
    "name": "ipython",
    "version": 3
   },
   "file_extension": ".py",
   "mimetype": "text/x-python",
   "name": "python",
   "nbconvert_exporter": "python",
   "pygments_lexer": "ipython3",
   "version": "3.10.2"
  }
 },
 "nbformat": 4,
 "nbformat_minor": 5
}
