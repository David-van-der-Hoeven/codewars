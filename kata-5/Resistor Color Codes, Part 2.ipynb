{
 "cells": [
  {
   "cell_type": "markdown",
   "id": "8e53c23d",
   "metadata": {},
   "source": [
    "Overview\n",
    "Resistors are electrical components marked with colorful stripes/bands to indicate both their resistance value in ohms and how tight a tolerance that value has. If you did my Resistor Color Codes kata, you wrote a function which took a string containing a resistor's band colors, and returned a string identifying the resistor's ohms and tolerance values.\n",
    "\n",
    "Well, now you need that in reverse: The previous owner of your \"Beyond-Ultimate Raspberry Pi Starter Kit\" (as featured in my Fizz Buzz Cuckoo Clock kata) had emptied all the tiny labeled zip-lock bags of components into the box, so that for each resistor you need for a project, instead of looking for text on a label, you need to find one with the sequence of band colors that matches the ohms value you need.\n",
    "\n",
    "The resistor color codes\n",
    "You can see this Wikipedia page for a colorful chart, but the basic resistor color codes are:\n",
    "\n",
    "0: black, 1: brown, 2: red, 3: orange, 4: yellow, 5: green, 6: blue, 7: violet, 8: gray, 9: white\n",
    "\n",
    "All resistors have at least three bands, with the first and second bands indicating the first two digits of the ohms value, and the third indicating the power of ten to multiply them by, for example a resistor with a value of 47 ohms, which equals 47 * 10^0 ohms, would have the three bands \"yellow violet black\".\n",
    "\n",
    "Most resistors also have a fourth band indicating tolerance -- in an electronics kit like yours, the tolerance will always be 5%, which is indicated by a gold band. So in your kit, the 47-ohm resistor in the above paragraph would have the four bands \"yellow violet black gold\".\n",
    "\n",
    "Your mission\n",
    "Your function will receive a string containing the ohms value you need, followed by a space and the word \"ohms\" (to avoid Codewars unicode headaches I'm just using the word instead of the ohms unicode symbol). The way an ohms value is formatted depends on the magnitude of the value:\n",
    "\n",
    "For resistors less than 1000 ohms, the ohms value is just formatted as the plain number. For example, with the 47-ohm resistor above, your function would receive the string \"47 ohms\", and return the string `\"yellow violet black gold\".\n",
    "\n",
    "For resistors greater than or equal to 1000 ohms, but less than 1000000 ohms, the ohms value is divided by 1000, and has a lower-case \"k\" after it. For example, if your function received the string \"4.7k ohms\", it would need to return the string \"yellow violet red gold\".\n",
    "\n",
    "For resistors of 1000000 ohms or greater, the ohms value is divided by 1000000, and has an upper-case \"M\" after it. For example, if your function received the string \"1M ohms\", it would need to return the string \"brown black green gold\".\n",
    "\n",
    "Test case resistor values will all be between 10 ohms and 990M ohms.\n",
    "\n",
    "More examples, featuring some common resistor values from your kit\n",
    "\"10 ohms\"        \"brown black black gold\"\n",
    "\"100 ohms\"       \"brown black brown gold\"\n",
    "\"220 ohms\"       \"red red brown gold\"\n",
    "\"330 ohms\"       \"orange orange brown gold\"\n",
    "\"470 ohms\"       \"yellow violet brown gold\"\n",
    "\"680 ohms\"       \"blue gray brown gold\"\n",
    "\"1k ohms\"        \"brown black red gold\"\n",
    "\"10k ohms\"       \"brown black orange gold\"\n",
    "\"22k ohms\"       \"red red orange gold\"\n",
    "\"47k ohms\"       \"yellow violet orange gold\"\n",
    "\"100k ohms\"      \"brown black yellow gold\"\n",
    "\"330k ohms\"      \"orange orange yellow gold\"\n",
    "\"2M ohms\"        \"red black green gold\""
   ]
  },
  {
   "cell_type": "code",
   "execution_count": 1,
   "id": "f412245c",
   "metadata": {},
   "outputs": [],
   "source": [
    "def encode_resistor_colors(ohms_string):\n",
    "    import re\n",
    "    if 'M' in ohms_string:\n",
    "        ohms_string = ohms_string.replace('M','000000')\n",
    "    elif 'k' in ohms_string:\n",
    "        ohms_string = ohms_string.replace('k','000')\n",
    "    if '.' in ohms_string:\n",
    "        ohms_string = ohms_string.replace('.','').replace('0','',1)\n",
    "    colors = {0: 'black', 1: 'brown', 2: 'red', 3: 'orange', 4: 'yellow', 5: 'green', 6: 'blue', 7: 'violet', 8: 'gray', 9: 'white'}\n",
    "    digits = re.findall('\\d+',ohms_string)\n",
    "    output_string = ''\n",
    "    for n in range(0,2):\n",
    "        output_string += colors[int(digits[0][n])] + ' '\n",
    "    output_string += colors[len(digits[0]) - 2] + ' gold'\n",
    "    return output_string"
   ]
  },
  {
   "cell_type": "code",
   "execution_count": 2,
   "id": "c614b162",
   "metadata": {},
   "outputs": [
    {
     "data": {
      "text/plain": [
       "'red violet green gold'"
      ]
     },
     "execution_count": 2,
     "metadata": {},
     "output_type": "execute_result"
    }
   ],
   "source": [
    "encode_resistor_colors(\"2.7M ohms\")#, \"red black green gold\")"
   ]
  },
  {
   "cell_type": "code",
   "execution_count": null,
   "id": "b070cf8e",
   "metadata": {},
   "outputs": [],
   "source": []
  }
 ],
 "metadata": {
  "kernelspec": {
   "display_name": "Python 3 (ipykernel)",
   "language": "python",
   "name": "python3"
  },
  "language_info": {
   "codemirror_mode": {
    "name": "ipython",
    "version": 3
   },
   "file_extension": ".py",
   "mimetype": "text/x-python",
   "name": "python",
   "nbconvert_exporter": "python",
   "pygments_lexer": "ipython3",
   "version": "3.10.2"
  }
 },
 "nbformat": 4,
 "nbformat_minor": 5
}
