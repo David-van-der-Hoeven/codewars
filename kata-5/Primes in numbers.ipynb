{
 "cells": [
  {
   "cell_type": "markdown",
   "id": "f4701391",
   "metadata": {},
   "source": [
    "Given a positive number n > 1 find the prime factor decomposition of n. The result will be a string with the following form :\n",
    "\n",
    " \"(p1**n1)(p2**n2)...(pk**nk)\"\n",
    "with the p(i) in increasing order and n(i) empty if n(i) is 1.\n",
    "\n",
    "Example: n = 86240 should return \"(2**5)(5)(7**2)(11)\"m"
   ]
  },
  {
   "cell_type": "code",
   "execution_count": 1,
   "id": "30461d5a",
   "metadata": {},
   "outputs": [],
   "source": [
    "def prime_factors(n):\n",
    "    #print(n)\n",
    "    factor_list = []\n",
    "    while is_prime(n):\n",
    "        n, factor = determine_factor(n, factor_list)\n",
    "        factor_list.append(factor)\n",
    "    factor_list.append(int(n))\n",
    "    return formatting(factor_list)\n",
    "\n",
    "def determine_factor(number, factor_list):\n",
    "    for factor in range(2, int(number)):\n",
    "        if not number % factor:\n",
    "            number = number / factor\n",
    "            return number, factor\n",
    "\n",
    "def is_prime(number):\n",
    "    for factor in range(2, int(number)):\n",
    "        if not number % factor:\n",
    "            return True\n",
    "    return False\n",
    "        \n",
    "def formatting(factor_list):\n",
    "    output_format = ''\n",
    "    for number in sorted(set(factor_list)):\n",
    "        counter = factor_list.count(number)\n",
    "        if counter > 1:\n",
    "            formatting = f'({number}**{counter})'\n",
    "        else:\n",
    "            formatting = f'({number})'\n",
    "        output_format += formatting\n",
    "    return output_format"
   ]
  },
  {
   "cell_type": "code",
   "execution_count": 2,
   "id": "36c4cf80",
   "metadata": {},
   "outputs": [
    {
     "data": {
      "text/plain": [
       "'(3)(17**2)(31)(677)'"
      ]
     },
     "execution_count": 2,
     "metadata": {},
     "output_type": "execute_result"
    }
   ],
   "source": [
    "prime_factors(18195729)"
   ]
  },
  {
   "cell_type": "code",
   "execution_count": null,
   "id": "02b4a12c",
   "metadata": {},
   "outputs": [],
   "source": []
  }
 ],
 "metadata": {
  "kernelspec": {
   "display_name": "Python 3 (ipykernel)",
   "language": "python",
   "name": "python3"
  },
  "language_info": {
   "codemirror_mode": {
    "name": "ipython",
    "version": 3
   },
   "file_extension": ".py",
   "mimetype": "text/x-python",
   "name": "python",
   "nbconvert_exporter": "python",
   "pygments_lexer": "ipython3",
   "version": "3.10.2"
  }
 },
 "nbformat": 4,
 "nbformat_minor": 5
}
